{
 "cells": [
  {
   "cell_type": "code",
   "execution_count": 1,
   "id": "bfe3fd6d",
   "metadata": {},
   "outputs": [],
   "source": [
    "import pandas as pd\n",
    "import numpy as np\n",
    "from calculadora_targets import CalculadoraTargets"
   ]
  },
  {
   "cell_type": "code",
   "execution_count": 2,
   "id": "52098554",
   "metadata": {},
   "outputs": [],
   "source": [
    "def gerar_dados(\n",
    "    n_contratos: int = 10000, \n",
    "    n_meses: int = 24, \n",
    "    data_inicio: str = '2022-01-01'\n",
    ") -> pd.DataFrame:\n",
    "    \"\"\"\n",
    "    Gera um DataFrame robusto simulando a evolução de uma carteira de crédito.\n",
    "\n",
    "    Cria `n_contratos` únicos e acompanha sua evolução de atraso ao longo de `n_meses`.\n",
    "\n",
    "    Parâmetros\n",
    "    ----------\n",
    "    n_contratos : int\n",
    "        Número de contratos únicos na carteira.\n",
    "    n_meses : int\n",
    "        Número de meses para simular a evolução.\n",
    "    data_inicio : str\n",
    "        Data de início da simulação (formato 'YYYY-MM-DD').\n",
    "\n",
    "    Retorna\n",
    "    -------\n",
    "    pd.DataFrame\n",
    "        DataFrame com as colunas ['ccb', 'anomes', 'atraso'].\n",
    "    \"\"\"\n",
    "    print(f\"Gerando dados para {n_contratos} contratos ao longo de {n_meses} meses...\")\n",
    "\n",
    "    # Cria a lista de meses no formato YYYYMM\n",
    "    meses = pd.to_datetime(\n",
    "        pd.date_range(start=data_inicio, periods=n_meses, freq='MS')\n",
    "    ).strftime('%Y%m')\n",
    "\n",
    "    # Cria a estrutura base do DataFrame com todos os contratos para todos os meses\n",
    "    contratos_ids = range(1, n_contratos + 1)\n",
    "    df = pd.DataFrame(\n",
    "        pd.MultiIndex.from_product([contratos_ids, meses], names=['ccb', 'anomes']).to_frame(index=False)\n",
    "    )\n",
    "    # Garante a ordenação correta, essencial para a lógica de evolução\n",
    "    df = df.sort_values(['ccb', 'anomes']).reset_index(drop=True)\n",
    "    df['atraso'] = 0 # Inicializa atraso com 0\n",
    "\n",
    "    # --- Mês 1: Define o status inicial dos contratos ---\n",
    "    prob_inicio = [0.92, 0.05, 0.02, 0.01]  # 92% começam em dia\n",
    "    atraso_inicio = [0, 15, 30, 90]\n",
    "    primeiro_mes_mask = df['anomes'] == meses[0]\n",
    "    df.loc[primeiro_mes_mask, 'atraso'] = np.random.choice(\n",
    "        atraso_inicio, size=n_contratos, p=prob_inicio\n",
    "    )\n",
    "\n",
    "    # --- Meses 2 a N: Simula a evolução mês a mês ---\n",
    "    for i in range(1, len(meses)):\n",
    "        anomes_atual = meses[i]\n",
    "        anomes_anterior = meses[i-1]\n",
    "\n",
    "        # Pega os valores de atraso do mês anterior de forma eficiente\n",
    "        atraso_anterior = df.loc[df['anomes'] == anomes_anterior, 'atraso'].values\n",
    "        atraso_atual = atraso_anterior.copy()\n",
    "\n",
    "        # 1. Agravamento: 85% de chance de o atraso aumentar para quem já estava atrasado\n",
    "        mask_agrava = (atraso_anterior > 0) & (np.random.rand(n_contratos) < 0.85)\n",
    "        aumento = np.random.randint(25, 35, size=mask_agrava.sum())\n",
    "        atraso_atual[mask_agrava] += aumento\n",
    "\n",
    "        # 2. Cura: 5% de chance de um contrato atrasado ser regularizado\n",
    "        mask_cura = (atraso_anterior > 0) & (np.random.rand(n_contratos) < 0.05)\n",
    "        atraso_atual[mask_cura] = 0\n",
    "\n",
    "        # 3. Nova Inadimplência: 2% de chance de um contrato em dia entrar em atraso\n",
    "        mask_nova_inadimplencia = (atraso_anterior == 0) & (np.random.rand(n_contratos) < 0.02)\n",
    "        atraso_atual[mask_nova_inadimplencia] = np.random.randint(1, 15, size=mask_nova_inadimplencia.sum())\n",
    "        \n",
    "        # Atribui os novos valores de atraso ao DataFrame\n",
    "        df.loc[df['anomes'] == anomes_atual, 'atraso'] = atraso_atual\n",
    "\n",
    "    df['ccb']=df['ccb'].astype(str).str.zfill(8)\n",
    "    print(\"Dados gerados com sucesso!\")\n",
    "    return df.astype({'atraso': 'int32'})"
   ]
  },
  {
   "cell_type": "code",
   "execution_count": 3,
   "id": "37d323ac",
   "metadata": {},
   "outputs": [
    {
     "name": "stdout",
     "output_type": "stream",
     "text": [
      "Gerando dados para 10000 contratos ao longo de 24 meses...\n",
      "Dados gerados com sucesso!\n",
      "\n",
      "--- Informações do DataFrame Gerado ---\n",
      "<class 'pandas.core.frame.DataFrame'>\n",
      "RangeIndex: 240000 entries, 0 to 239999\n",
      "Data columns (total 3 columns):\n",
      " #   Column  Non-Null Count   Dtype \n",
      "---  ------  --------------   ----- \n",
      " 0   ccb     240000 non-null  object\n",
      " 1   anomes  240000 non-null  object\n",
      " 2   atraso  240000 non-null  int32 \n",
      "dtypes: int32(1), object(2)\n",
      "memory usage: 4.6+ MB\n",
      "\n",
      "--- Primeiros Registros ---\n"
     ]
    },
    {
     "data": {
      "text/html": [
       "<div>\n",
       "<style scoped>\n",
       "    .dataframe tbody tr th:only-of-type {\n",
       "        vertical-align: middle;\n",
       "    }\n",
       "\n",
       "    .dataframe tbody tr th {\n",
       "        vertical-align: top;\n",
       "    }\n",
       "\n",
       "    .dataframe thead th {\n",
       "        text-align: right;\n",
       "    }\n",
       "</style>\n",
       "<table border=\"1\" class=\"dataframe\">\n",
       "  <thead>\n",
       "    <tr style=\"text-align: right;\">\n",
       "      <th></th>\n",
       "      <th>ccb</th>\n",
       "      <th>anomes</th>\n",
       "      <th>atraso</th>\n",
       "    </tr>\n",
       "  </thead>\n",
       "  <tbody>\n",
       "    <tr>\n",
       "      <th>0</th>\n",
       "      <td>00000001</td>\n",
       "      <td>202201</td>\n",
       "      <td>0</td>\n",
       "    </tr>\n",
       "    <tr>\n",
       "      <th>1</th>\n",
       "      <td>00000001</td>\n",
       "      <td>202202</td>\n",
       "      <td>0</td>\n",
       "    </tr>\n",
       "    <tr>\n",
       "      <th>2</th>\n",
       "      <td>00000001</td>\n",
       "      <td>202203</td>\n",
       "      <td>0</td>\n",
       "    </tr>\n",
       "    <tr>\n",
       "      <th>3</th>\n",
       "      <td>00000001</td>\n",
       "      <td>202204</td>\n",
       "      <td>0</td>\n",
       "    </tr>\n",
       "    <tr>\n",
       "      <th>4</th>\n",
       "      <td>00000001</td>\n",
       "      <td>202205</td>\n",
       "      <td>0</td>\n",
       "    </tr>\n",
       "  </tbody>\n",
       "</table>\n",
       "</div>"
      ],
      "text/plain": [
       "        ccb  anomes  atraso\n",
       "0  00000001  202201       0\n",
       "1  00000001  202202       0\n",
       "2  00000001  202203       0\n",
       "3  00000001  202204       0\n",
       "4  00000001  202205       0"
      ]
     },
     "metadata": {},
     "output_type": "display_data"
    },
    {
     "name": "stdout",
     "output_type": "stream",
     "text": [
      "\n",
      "--- Últimos Registros ---\n"
     ]
    },
    {
     "data": {
      "text/html": [
       "<div>\n",
       "<style scoped>\n",
       "    .dataframe tbody tr th:only-of-type {\n",
       "        vertical-align: middle;\n",
       "    }\n",
       "\n",
       "    .dataframe tbody tr th {\n",
       "        vertical-align: top;\n",
       "    }\n",
       "\n",
       "    .dataframe thead th {\n",
       "        text-align: right;\n",
       "    }\n",
       "</style>\n",
       "<table border=\"1\" class=\"dataframe\">\n",
       "  <thead>\n",
       "    <tr style=\"text-align: right;\">\n",
       "      <th></th>\n",
       "      <th>ccb</th>\n",
       "      <th>anomes</th>\n",
       "      <th>atraso</th>\n",
       "    </tr>\n",
       "  </thead>\n",
       "  <tbody>\n",
       "    <tr>\n",
       "      <th>239995</th>\n",
       "      <td>00010000</td>\n",
       "      <td>202308</td>\n",
       "      <td>445</td>\n",
       "    </tr>\n",
       "    <tr>\n",
       "      <th>239996</th>\n",
       "      <td>00010000</td>\n",
       "      <td>202309</td>\n",
       "      <td>475</td>\n",
       "    </tr>\n",
       "    <tr>\n",
       "      <th>239997</th>\n",
       "      <td>00010000</td>\n",
       "      <td>202310</td>\n",
       "      <td>475</td>\n",
       "    </tr>\n",
       "    <tr>\n",
       "      <th>239998</th>\n",
       "      <td>00010000</td>\n",
       "      <td>202311</td>\n",
       "      <td>504</td>\n",
       "    </tr>\n",
       "    <tr>\n",
       "      <th>239999</th>\n",
       "      <td>00010000</td>\n",
       "      <td>202312</td>\n",
       "      <td>0</td>\n",
       "    </tr>\n",
       "  </tbody>\n",
       "</table>\n",
       "</div>"
      ],
      "text/plain": [
       "             ccb  anomes  atraso\n",
       "239995  00010000  202308     445\n",
       "239996  00010000  202309     475\n",
       "239997  00010000  202310     475\n",
       "239998  00010000  202311     504\n",
       "239999  00010000  202312       0"
      ]
     },
     "metadata": {},
     "output_type": "display_data"
    }
   ],
   "source": [
    "# PASSO 1: Gerar o conjunto de dados robusto\n",
    "# (10.000 contratos * 24 meses = 240.000 registros)\n",
    "dados = gerar_dados(n_contratos=10000, n_meses=24)\n",
    "\n",
    "# Mostra informações sobre o DataFrame gerado\n",
    "print(\"\\n--- Informações do DataFrame Gerado ---\")\n",
    "dados.info()\n",
    "print(\"\\n--- Primeiros Registros ---\")\n",
    "display(dados.head())\n",
    "print(\"\\n--- Últimos Registros ---\")\n",
    "display(dados.tail())"
   ]
  },
  {
   "cell_type": "code",
   "execution_count": null,
   "id": "e0780a53",
   "metadata": {},
   "outputs": [
    {
     "name": "stderr",
     "output_type": "stream",
     "text": [
      "<>:6: SyntaxWarning: 'tuple' object is not callable; perhaps you missed a comma?\n",
      "<>:6: SyntaxWarning: 'tuple' object is not callable; perhaps you missed a comma?\n",
      "C:\\Users\\JM\\AppData\\Local\\Temp\\ipykernel_3212\\2915004286.py:6: SyntaxWarning: 'tuple' object is not callable; perhaps you missed a comma?\n",
      "  ('ever', 30, 4)    # Atingiu 30 dias de atraso em algum momento nos próximos 4 meses?\n",
      "C:\\Users\\JM\\AppData\\Local\\Temp\\ipykernel_3212\\2915004286.py:6: SyntaxWarning: 'tuple' object is not callable; perhaps you missed a comma?\n",
      "  ('ever', 30, 4)    # Atingiu 30 dias de atraso em algum momento nos próximos 4 meses?\n",
      "C:\\Users\\JM\\AppData\\Local\\Temp\\ipykernel_3212\\2915004286.py:6: SyntaxWarning: 'tuple' object is not callable; perhaps you missed a comma?\n",
      "  ('ever', 30, 4)    # Atingiu 30 dias de atraso em algum momento nos próximos 4 meses?\n"
     ]
    },
    {
     "ename": "TypeError",
     "evalue": "'tuple' object is not callable",
     "output_type": "error",
     "traceback": [
      "\u001b[1;31m---------------------------------------------------------------------------\u001b[0m",
      "\u001b[1;31mTypeError\u001b[0m                                 Traceback (most recent call last)",
      "Cell \u001b[1;32mIn[4], line 6\u001b[0m\n\u001b[0;32m      1\u001b[0m \u001b[38;5;66;03m# 2. Defina as metas que você quer calcular\u001b[39;00m\n\u001b[0;32m      2\u001b[0m \u001b[38;5;66;03m#    Formato: (tipo, dias_de_atraso, horizonte_em_meses)\u001b[39;00m\n\u001b[0;32m      3\u001b[0m minhas_metas \u001b[38;5;241m=\u001b[39m [\n\u001b[0;32m      4\u001b[0m     (\u001b[38;5;124m'\u001b[39m\u001b[38;5;124mever\u001b[39m\u001b[38;5;124m'\u001b[39m, \u001b[38;5;241m90\u001b[39m, \u001b[38;5;241m12\u001b[39m),   \u001b[38;5;66;03m# Atingiu 90 dias de atraso em algum momento nos próximos 12 meses?\u001b[39;00m\n\u001b[0;32m      5\u001b[0m     (\u001b[38;5;124m'\u001b[39m\u001b[38;5;124mover\u001b[39m\u001b[38;5;124m'\u001b[39m, \u001b[38;5;241m90\u001b[39m, \u001b[38;5;241m12\u001b[39m),    \u001b[38;5;66;03m# Estava com 90 dias ou mais de atraso exatamente 12 meses depois?\u001b[39;00m\n\u001b[1;32m----> 6\u001b[0m     \u001b[43m(\u001b[49m\u001b[38;5;124;43m'\u001b[39;49m\u001b[38;5;124;43mever\u001b[39;49m\u001b[38;5;124;43m'\u001b[39;49m\u001b[43m,\u001b[49m\u001b[43m \u001b[49m\u001b[38;5;241;43m30\u001b[39;49m\u001b[43m,\u001b[49m\u001b[43m \u001b[49m\u001b[38;5;241;43m4\u001b[39;49m\u001b[43m)\u001b[49m\u001b[43m    \u001b[49m\u001b[38;5;66;43;03m# Atingiu 30 dias de atraso em algum momento nos próximos 4 meses?\u001b[39;49;00m\n\u001b[0;32m      7\u001b[0m \u001b[43m    \u001b[49m\u001b[43m(\u001b[49m\u001b[38;5;124;43m'\u001b[39;49m\u001b[38;5;124;43mover\u001b[39;49m\u001b[38;5;124;43m'\u001b[39;49m\u001b[43m,\u001b[49m\u001b[43m \u001b[49m\u001b[38;5;241;43m30\u001b[39;49m\u001b[43m,\u001b[49m\u001b[43m \u001b[49m\u001b[38;5;241;43m4\u001b[39;49m\u001b[43m)\u001b[49m,    \u001b[38;5;66;03m# Estava com 30 dias ou mais de atraso exatamente 4 meses depois?\u001b[39;00m\n\u001b[0;32m      8\u001b[0m ]\n\u001b[0;32m     10\u001b[0m \u001b[38;5;66;03m# 3. Crie a calculadora e execute o cálculo\u001b[39;00m\n\u001b[0;32m     11\u001b[0m \u001b[38;5;66;03m#    Instancie a classe com suas especificações.\u001b[39;00m\n\u001b[0;32m     12\u001b[0m calculadora \u001b[38;5;241m=\u001b[39m CalculadoraTargets(\n\u001b[0;32m     13\u001b[0m     specs\u001b[38;5;241m=\u001b[39mminhas_metas, \n\u001b[0;32m     14\u001b[0m     date_col\u001b[38;5;241m=\u001b[39m\u001b[38;5;124m'\u001b[39m\u001b[38;5;124manomes\u001b[39m\u001b[38;5;124m'\u001b[39m,\n\u001b[0;32m     15\u001b[0m     contract_col\u001b[38;5;241m=\u001b[39m\u001b[38;5;124m'\u001b[39m\u001b[38;5;124mccb\u001b[39m\u001b[38;5;124m'\u001b[39m,\n\u001b[0;32m     16\u001b[0m     dpd_col\u001b[38;5;241m=\u001b[39m\u001b[38;5;124m'\u001b[39m\u001b[38;5;124matraso\u001b[39m\u001b[38;5;124m'\u001b[39m\n\u001b[0;32m     17\u001b[0m     )\n",
      "\u001b[1;31mTypeError\u001b[0m: 'tuple' object is not callable"
     ]
    }
   ],
   "source": [
    "# 2. Defina as metas que você quer calcular\n",
    "#    Formato: (tipo, dias_de_atraso, horizonte_em_meses)\n",
    "minhas_metas = [\n",
    "    ('ever', 90, 12),   # Atingiu 90 dias de atraso em algum momento nos próximos 12 meses?\n",
    "    ('over', 90, 12),    # Estava com 90 dias ou mais de atraso exatamente 12 meses depois?\n",
    "    ('ever', 30, 4),    # Atingiu 30 dias de atraso em algum momento nos próximos 4 meses?\n",
    "    ('over', 30, 4),    # Estava com 30 dias ou mais de atraso exatamente 4 meses depois?\n",
    "]\n",
    "\n",
    "# 3. Crie a calculadora e execute o cálculo\n",
    "#    Instancie a classe com suas especificações.\n",
    "calculadora = CalculadoraTargets(\n",
    "    specs=minhas_metas, \n",
    "    date_col='anomes',\n",
    "    contract_col='ccb',\n",
    "    dpd_col='atraso'\n",
    "    )"
   ]
  },
  {
   "cell_type": "code",
   "execution_count": null,
   "id": "d6a82594",
   "metadata": {},
   "outputs": [
    {
     "data": {
      "text/html": [
       "<div>\n",
       "<style scoped>\n",
       "    .dataframe tbody tr th:only-of-type {\n",
       "        vertical-align: middle;\n",
       "    }\n",
       "\n",
       "    .dataframe tbody tr th {\n",
       "        vertical-align: top;\n",
       "    }\n",
       "\n",
       "    .dataframe thead th {\n",
       "        text-align: right;\n",
       "    }\n",
       "</style>\n",
       "<table border=\"1\" class=\"dataframe\">\n",
       "  <thead>\n",
       "    <tr style=\"text-align: right;\">\n",
       "      <th></th>\n",
       "      <th>ccb</th>\n",
       "      <th>anomes</th>\n",
       "      <th>atraso</th>\n",
       "      <th>ever90m12</th>\n",
       "      <th>over90m12</th>\n",
       "    </tr>\n",
       "  </thead>\n",
       "  <tbody>\n",
       "    <tr>\n",
       "      <th>0</th>\n",
       "      <td>00000001</td>\n",
       "      <td>202201</td>\n",
       "      <td>0</td>\n",
       "      <td>0</td>\n",
       "      <td>0</td>\n",
       "    </tr>\n",
       "    <tr>\n",
       "      <th>1</th>\n",
       "      <td>00000001</td>\n",
       "      <td>202202</td>\n",
       "      <td>0</td>\n",
       "      <td>0</td>\n",
       "      <td>0</td>\n",
       "    </tr>\n",
       "    <tr>\n",
       "      <th>2</th>\n",
       "      <td>00000001</td>\n",
       "      <td>202203</td>\n",
       "      <td>0</td>\n",
       "      <td>0</td>\n",
       "      <td>0</td>\n",
       "    </tr>\n",
       "    <tr>\n",
       "      <th>3</th>\n",
       "      <td>00000001</td>\n",
       "      <td>202204</td>\n",
       "      <td>0</td>\n",
       "      <td>0</td>\n",
       "      <td>0</td>\n",
       "    </tr>\n",
       "    <tr>\n",
       "      <th>4</th>\n",
       "      <td>00000001</td>\n",
       "      <td>202205</td>\n",
       "      <td>0</td>\n",
       "      <td>0</td>\n",
       "      <td>0</td>\n",
       "    </tr>\n",
       "    <tr>\n",
       "      <th>...</th>\n",
       "      <td>...</td>\n",
       "      <td>...</td>\n",
       "      <td>...</td>\n",
       "      <td>...</td>\n",
       "      <td>...</td>\n",
       "    </tr>\n",
       "    <tr>\n",
       "      <th>239995</th>\n",
       "      <td>00010000</td>\n",
       "      <td>202308</td>\n",
       "      <td>0</td>\n",
       "      <td>0</td>\n",
       "      <td>0</td>\n",
       "    </tr>\n",
       "    <tr>\n",
       "      <th>239996</th>\n",
       "      <td>00010000</td>\n",
       "      <td>202309</td>\n",
       "      <td>0</td>\n",
       "      <td>0</td>\n",
       "      <td>0</td>\n",
       "    </tr>\n",
       "    <tr>\n",
       "      <th>239997</th>\n",
       "      <td>00010000</td>\n",
       "      <td>202310</td>\n",
       "      <td>0</td>\n",
       "      <td>0</td>\n",
       "      <td>0</td>\n",
       "    </tr>\n",
       "    <tr>\n",
       "      <th>239998</th>\n",
       "      <td>00010000</td>\n",
       "      <td>202311</td>\n",
       "      <td>0</td>\n",
       "      <td>0</td>\n",
       "      <td>0</td>\n",
       "    </tr>\n",
       "    <tr>\n",
       "      <th>239999</th>\n",
       "      <td>00010000</td>\n",
       "      <td>202312</td>\n",
       "      <td>0</td>\n",
       "      <td>0</td>\n",
       "      <td>0</td>\n",
       "    </tr>\n",
       "  </tbody>\n",
       "</table>\n",
       "<p>240000 rows × 5 columns</p>\n",
       "</div>"
      ],
      "text/plain": [
       "             ccb  anomes  atraso  ever90m12  over90m12\n",
       "0       00000001  202201       0          0          0\n",
       "1       00000001  202202       0          0          0\n",
       "2       00000001  202203       0          0          0\n",
       "3       00000001  202204       0          0          0\n",
       "4       00000001  202205       0          0          0\n",
       "...          ...     ...     ...        ...        ...\n",
       "239995  00010000  202308       0          0          0\n",
       "239996  00010000  202309       0          0          0\n",
       "239997  00010000  202310       0          0          0\n",
       "239998  00010000  202311       0          0          0\n",
       "239999  00010000  202312       0          0          0\n",
       "\n",
       "[240000 rows x 5 columns]"
      ]
     },
     "metadata": {},
     "output_type": "display_data"
    }
   ],
   "source": [
    "#    Chame o método 'calcular' para obter o resultado.\n",
    "df = calculadora.calcular(dados)\n",
    "\n",
    "# 4. Veja o resultado!\n",
    "display(df)"
   ]
  },
  {
   "cell_type": "code",
   "execution_count": null,
   "id": "49461c49",
   "metadata": {},
   "outputs": [
    {
     "data": {
      "text/plain": [
       "58055"
      ]
     },
     "execution_count": 6,
     "metadata": {},
     "output_type": "execute_result"
    }
   ],
   "source": [
    "df['ever90m12'].sum()"
   ]
  },
  {
   "cell_type": "code",
   "execution_count": null,
   "id": "82f822d2",
   "metadata": {},
   "outputs": [
    {
     "data": {
      "application/vnd.plotly.v1+json": {
       "config": {
        "plotlyServerURL": "https://plot.ly"
       },
       "data": [
        {
         "marker": {
          "color": "steelblue"
         },
         "name": "Contracts",
         "opacity": 0.7,
         "type": "bar",
         "x": [
          "202201",
          "202202",
          "202203",
          "202204",
          "202205",
          "202206",
          "202207",
          "202208",
          "202209",
          "202210",
          "202211",
          "202212",
          "202301",
          "202302",
          "202303",
          "202304",
          "202305",
          "202306",
          "202307",
          "202308",
          "202309",
          "202310",
          "202311",
          "202312"
         ],
         "xaxis": "x",
         "y": {
          "bdata": "ECcQJxAnECcQJxAnECcQJxAnECcQJxAnECcQJxAnECcQJxAnECcQJxAnECcQJxAn",
          "dtype": "i2"
         },
         "yaxis": "y"
        },
        {
         "mode": "lines+markers",
         "name": "ever90m12",
         "type": "scatter",
         "x": [
          "202201",
          "202202",
          "202203",
          "202204",
          "202205",
          "202206",
          "202207",
          "202208",
          "202209",
          "202210",
          "202211",
          "202212",
          "202301",
          "202302",
          "202303",
          "202304",
          "202305",
          "202306",
          "202307",
          "202308",
          "202309",
          "202310",
          "202311",
          "202312"
         ],
         "xaxis": "x",
         "y": {
          "bdata": "4XoUrkehMkDNzMzMzAw0QGZmZmZmZjVAzczMzMyMNkAfhetRuJ43QOF6FK5HYThAwvUoXI9COUCF61G4HgU6QClcj8L1qDpA9ihcj8J1O0CamZmZmRk8QMzMzMzMzDxAXY/C9SgcPEDWo3A9Cpc7QOtRuB6F6zpA61G4HoUrOkBRuB6F65E5QDMzMzMzszhAw/UoXI/CN0AK16NwPco2QJqZmZmZ2TVAAAAAAAAANUDNzMzMzAw0QFyPwvUoHDNA",
          "dtype": "f8"
         },
         "yaxis": "y2"
        },
        {
         "mode": "lines+markers",
         "name": "over90m12",
         "type": "scatter",
         "x": [
          "202201",
          "202202",
          "202203",
          "202204",
          "202205",
          "202206",
          "202207",
          "202208",
          "202209",
          "202210",
          "202211",
          "202212",
          "202301",
          "202302",
          "202303",
          "202304",
          "202305",
          "202306",
          "202307",
          "202308",
          "202309",
          "202310",
          "202311",
          "202312"
         ],
         "xaxis": "x",
         "y": {
          "bdata": "MjMzMzMzLEAVrkfhehQuQPYoXI/CdS9ArkfhehQuMEBwPQrXo/AwQOJ6FK5HITFAw/UoXI+CMUB7FK5H4boxQJDC9ShcDzJAwvUoXI+CMkBxPQrXo7AyQFyPwvUoHDNAAAAAAAAAAAAAAAAAAAAAAAAAAAAAAAAAAAAAAAAAAAAAAAAAAAAAAAAAAAAAAAAAAAAAAAAAAAAAAAAAAAAAAAAAAAAAAAAAAAAAAAAAAAAAAAAAAAAAAAAAAAAAAAAA",
          "dtype": "f8"
         },
         "yaxis": "y2"
        }
       ],
       "layout": {
        "bargap": 0.15,
        "legend": {
         "orientation": "h",
         "x": 1,
         "xanchor": "right",
         "y": 1.02,
         "yanchor": "bottom"
        },
        "template": {
         "data": {
          "bar": [
           {
            "error_x": {
             "color": "#2a3f5f"
            },
            "error_y": {
             "color": "#2a3f5f"
            },
            "marker": {
             "line": {
              "color": "white",
              "width": 0.5
             },
             "pattern": {
              "fillmode": "overlay",
              "size": 10,
              "solidity": 0.2
             }
            },
            "type": "bar"
           }
          ],
          "barpolar": [
           {
            "marker": {
             "line": {
              "color": "white",
              "width": 0.5
             },
             "pattern": {
              "fillmode": "overlay",
              "size": 10,
              "solidity": 0.2
             }
            },
            "type": "barpolar"
           }
          ],
          "carpet": [
           {
            "aaxis": {
             "endlinecolor": "#2a3f5f",
             "gridcolor": "#C8D4E3",
             "linecolor": "#C8D4E3",
             "minorgridcolor": "#C8D4E3",
             "startlinecolor": "#2a3f5f"
            },
            "baxis": {
             "endlinecolor": "#2a3f5f",
             "gridcolor": "#C8D4E3",
             "linecolor": "#C8D4E3",
             "minorgridcolor": "#C8D4E3",
             "startlinecolor": "#2a3f5f"
            },
            "type": "carpet"
           }
          ],
          "choropleth": [
           {
            "colorbar": {
             "outlinewidth": 0,
             "ticks": ""
            },
            "type": "choropleth"
           }
          ],
          "contour": [
           {
            "colorbar": {
             "outlinewidth": 0,
             "ticks": ""
            },
            "colorscale": [
             [
              0,
              "#0d0887"
             ],
             [
              0.1111111111111111,
              "#46039f"
             ],
             [
              0.2222222222222222,
              "#7201a8"
             ],
             [
              0.3333333333333333,
              "#9c179e"
             ],
             [
              0.4444444444444444,
              "#bd3786"
             ],
             [
              0.5555555555555556,
              "#d8576b"
             ],
             [
              0.6666666666666666,
              "#ed7953"
             ],
             [
              0.7777777777777778,
              "#fb9f3a"
             ],
             [
              0.8888888888888888,
              "#fdca26"
             ],
             [
              1,
              "#f0f921"
             ]
            ],
            "type": "contour"
           }
          ],
          "contourcarpet": [
           {
            "colorbar": {
             "outlinewidth": 0,
             "ticks": ""
            },
            "type": "contourcarpet"
           }
          ],
          "heatmap": [
           {
            "colorbar": {
             "outlinewidth": 0,
             "ticks": ""
            },
            "colorscale": [
             [
              0,
              "#0d0887"
             ],
             [
              0.1111111111111111,
              "#46039f"
             ],
             [
              0.2222222222222222,
              "#7201a8"
             ],
             [
              0.3333333333333333,
              "#9c179e"
             ],
             [
              0.4444444444444444,
              "#bd3786"
             ],
             [
              0.5555555555555556,
              "#d8576b"
             ],
             [
              0.6666666666666666,
              "#ed7953"
             ],
             [
              0.7777777777777778,
              "#fb9f3a"
             ],
             [
              0.8888888888888888,
              "#fdca26"
             ],
             [
              1,
              "#f0f921"
             ]
            ],
            "type": "heatmap"
           }
          ],
          "histogram": [
           {
            "marker": {
             "pattern": {
              "fillmode": "overlay",
              "size": 10,
              "solidity": 0.2
             }
            },
            "type": "histogram"
           }
          ],
          "histogram2d": [
           {
            "colorbar": {
             "outlinewidth": 0,
             "ticks": ""
            },
            "colorscale": [
             [
              0,
              "#0d0887"
             ],
             [
              0.1111111111111111,
              "#46039f"
             ],
             [
              0.2222222222222222,
              "#7201a8"
             ],
             [
              0.3333333333333333,
              "#9c179e"
             ],
             [
              0.4444444444444444,
              "#bd3786"
             ],
             [
              0.5555555555555556,
              "#d8576b"
             ],
             [
              0.6666666666666666,
              "#ed7953"
             ],
             [
              0.7777777777777778,
              "#fb9f3a"
             ],
             [
              0.8888888888888888,
              "#fdca26"
             ],
             [
              1,
              "#f0f921"
             ]
            ],
            "type": "histogram2d"
           }
          ],
          "histogram2dcontour": [
           {
            "colorbar": {
             "outlinewidth": 0,
             "ticks": ""
            },
            "colorscale": [
             [
              0,
              "#0d0887"
             ],
             [
              0.1111111111111111,
              "#46039f"
             ],
             [
              0.2222222222222222,
              "#7201a8"
             ],
             [
              0.3333333333333333,
              "#9c179e"
             ],
             [
              0.4444444444444444,
              "#bd3786"
             ],
             [
              0.5555555555555556,
              "#d8576b"
             ],
             [
              0.6666666666666666,
              "#ed7953"
             ],
             [
              0.7777777777777778,
              "#fb9f3a"
             ],
             [
              0.8888888888888888,
              "#fdca26"
             ],
             [
              1,
              "#f0f921"
             ]
            ],
            "type": "histogram2dcontour"
           }
          ],
          "mesh3d": [
           {
            "colorbar": {
             "outlinewidth": 0,
             "ticks": ""
            },
            "type": "mesh3d"
           }
          ],
          "parcoords": [
           {
            "line": {
             "colorbar": {
              "outlinewidth": 0,
              "ticks": ""
             }
            },
            "type": "parcoords"
           }
          ],
          "pie": [
           {
            "automargin": true,
            "type": "pie"
           }
          ],
          "scatter": [
           {
            "fillpattern": {
             "fillmode": "overlay",
             "size": 10,
             "solidity": 0.2
            },
            "type": "scatter"
           }
          ],
          "scatter3d": [
           {
            "line": {
             "colorbar": {
              "outlinewidth": 0,
              "ticks": ""
             }
            },
            "marker": {
             "colorbar": {
              "outlinewidth": 0,
              "ticks": ""
             }
            },
            "type": "scatter3d"
           }
          ],
          "scattercarpet": [
           {
            "marker": {
             "colorbar": {
              "outlinewidth": 0,
              "ticks": ""
             }
            },
            "type": "scattercarpet"
           }
          ],
          "scattergeo": [
           {
            "marker": {
             "colorbar": {
              "outlinewidth": 0,
              "ticks": ""
             }
            },
            "type": "scattergeo"
           }
          ],
          "scattergl": [
           {
            "marker": {
             "colorbar": {
              "outlinewidth": 0,
              "ticks": ""
             }
            },
            "type": "scattergl"
           }
          ],
          "scattermap": [
           {
            "marker": {
             "colorbar": {
              "outlinewidth": 0,
              "ticks": ""
             }
            },
            "type": "scattermap"
           }
          ],
          "scattermapbox": [
           {
            "marker": {
             "colorbar": {
              "outlinewidth": 0,
              "ticks": ""
             }
            },
            "type": "scattermapbox"
           }
          ],
          "scatterpolar": [
           {
            "marker": {
             "colorbar": {
              "outlinewidth": 0,
              "ticks": ""
             }
            },
            "type": "scatterpolar"
           }
          ],
          "scatterpolargl": [
           {
            "marker": {
             "colorbar": {
              "outlinewidth": 0,
              "ticks": ""
             }
            },
            "type": "scatterpolargl"
           }
          ],
          "scatterternary": [
           {
            "marker": {
             "colorbar": {
              "outlinewidth": 0,
              "ticks": ""
             }
            },
            "type": "scatterternary"
           }
          ],
          "surface": [
           {
            "colorbar": {
             "outlinewidth": 0,
             "ticks": ""
            },
            "colorscale": [
             [
              0,
              "#0d0887"
             ],
             [
              0.1111111111111111,
              "#46039f"
             ],
             [
              0.2222222222222222,
              "#7201a8"
             ],
             [
              0.3333333333333333,
              "#9c179e"
             ],
             [
              0.4444444444444444,
              "#bd3786"
             ],
             [
              0.5555555555555556,
              "#d8576b"
             ],
             [
              0.6666666666666666,
              "#ed7953"
             ],
             [
              0.7777777777777778,
              "#fb9f3a"
             ],
             [
              0.8888888888888888,
              "#fdca26"
             ],
             [
              1,
              "#f0f921"
             ]
            ],
            "type": "surface"
           }
          ],
          "table": [
           {
            "cells": {
             "fill": {
              "color": "#EBF0F8"
             },
             "line": {
              "color": "white"
             }
            },
            "header": {
             "fill": {
              "color": "#C8D4E3"
             },
             "line": {
              "color": "white"
             }
            },
            "type": "table"
           }
          ]
         },
         "layout": {
          "annotationdefaults": {
           "arrowcolor": "#2a3f5f",
           "arrowhead": 0,
           "arrowwidth": 1
          },
          "autotypenumbers": "strict",
          "coloraxis": {
           "colorbar": {
            "outlinewidth": 0,
            "ticks": ""
           }
          },
          "colorscale": {
           "diverging": [
            [
             0,
             "#8e0152"
            ],
            [
             0.1,
             "#c51b7d"
            ],
            [
             0.2,
             "#de77ae"
            ],
            [
             0.3,
             "#f1b6da"
            ],
            [
             0.4,
             "#fde0ef"
            ],
            [
             0.5,
             "#f7f7f7"
            ],
            [
             0.6,
             "#e6f5d0"
            ],
            [
             0.7,
             "#b8e186"
            ],
            [
             0.8,
             "#7fbc41"
            ],
            [
             0.9,
             "#4d9221"
            ],
            [
             1,
             "#276419"
            ]
           ],
           "sequential": [
            [
             0,
             "#0d0887"
            ],
            [
             0.1111111111111111,
             "#46039f"
            ],
            [
             0.2222222222222222,
             "#7201a8"
            ],
            [
             0.3333333333333333,
             "#9c179e"
            ],
            [
             0.4444444444444444,
             "#bd3786"
            ],
            [
             0.5555555555555556,
             "#d8576b"
            ],
            [
             0.6666666666666666,
             "#ed7953"
            ],
            [
             0.7777777777777778,
             "#fb9f3a"
            ],
            [
             0.8888888888888888,
             "#fdca26"
            ],
            [
             1,
             "#f0f921"
            ]
           ],
           "sequentialminus": [
            [
             0,
             "#0d0887"
            ],
            [
             0.1111111111111111,
             "#46039f"
            ],
            [
             0.2222222222222222,
             "#7201a8"
            ],
            [
             0.3333333333333333,
             "#9c179e"
            ],
            [
             0.4444444444444444,
             "#bd3786"
            ],
            [
             0.5555555555555556,
             "#d8576b"
            ],
            [
             0.6666666666666666,
             "#ed7953"
            ],
            [
             0.7777777777777778,
             "#fb9f3a"
            ],
            [
             0.8888888888888888,
             "#fdca26"
            ],
            [
             1,
             "#f0f921"
            ]
           ]
          },
          "colorway": [
           "#636efa",
           "#EF553B",
           "#00cc96",
           "#ab63fa",
           "#FFA15A",
           "#19d3f3",
           "#FF6692",
           "#B6E880",
           "#FF97FF",
           "#FECB52"
          ],
          "font": {
           "color": "#2a3f5f"
          },
          "geo": {
           "bgcolor": "white",
           "lakecolor": "white",
           "landcolor": "white",
           "showlakes": true,
           "showland": true,
           "subunitcolor": "#C8D4E3"
          },
          "hoverlabel": {
           "align": "left"
          },
          "hovermode": "closest",
          "mapbox": {
           "style": "light"
          },
          "paper_bgcolor": "white",
          "plot_bgcolor": "white",
          "polar": {
           "angularaxis": {
            "gridcolor": "#EBF0F8",
            "linecolor": "#EBF0F8",
            "ticks": ""
           },
           "bgcolor": "white",
           "radialaxis": {
            "gridcolor": "#EBF0F8",
            "linecolor": "#EBF0F8",
            "ticks": ""
           }
          },
          "scene": {
           "xaxis": {
            "backgroundcolor": "white",
            "gridcolor": "#DFE8F3",
            "gridwidth": 2,
            "linecolor": "#EBF0F8",
            "showbackground": true,
            "ticks": "",
            "zerolinecolor": "#EBF0F8"
           },
           "yaxis": {
            "backgroundcolor": "white",
            "gridcolor": "#DFE8F3",
            "gridwidth": 2,
            "linecolor": "#EBF0F8",
            "showbackground": true,
            "ticks": "",
            "zerolinecolor": "#EBF0F8"
           },
           "zaxis": {
            "backgroundcolor": "white",
            "gridcolor": "#DFE8F3",
            "gridwidth": 2,
            "linecolor": "#EBF0F8",
            "showbackground": true,
            "ticks": "",
            "zerolinecolor": "#EBF0F8"
           }
          },
          "shapedefaults": {
           "line": {
            "color": "#2a3f5f"
           }
          },
          "ternary": {
           "aaxis": {
            "gridcolor": "#DFE8F3",
            "linecolor": "#A2B1C6",
            "ticks": ""
           },
           "baxis": {
            "gridcolor": "#DFE8F3",
            "linecolor": "#A2B1C6",
            "ticks": ""
           },
           "bgcolor": "white",
           "caxis": {
            "gridcolor": "#DFE8F3",
            "linecolor": "#A2B1C6",
            "ticks": ""
           }
          },
          "title": {
           "x": 0.05
          },
          "xaxis": {
           "automargin": true,
           "gridcolor": "#EBF0F8",
           "linecolor": "#EBF0F8",
           "ticks": "",
           "title": {
            "standoff": 15
           },
           "zerolinecolor": "#EBF0F8",
           "zerolinewidth": 2
          },
          "yaxis": {
           "automargin": true,
           "gridcolor": "#EBF0F8",
           "linecolor": "#EBF0F8",
           "ticks": "",
           "title": {
            "standoff": 15
           },
           "zerolinecolor": "#EBF0F8",
           "zerolinewidth": 2
          }
         }
        },
        "title": {
         "text": "Evolução dos targets"
        },
        "xaxis": {
         "anchor": "y",
         "domain": [
          0,
          0.94
         ],
         "title": {
          "text": "anomes"
         }
        },
        "yaxis": {
         "anchor": "x",
         "domain": [
          0,
          1
         ],
         "title": {
          "text": "Number of contracts"
         }
        },
        "yaxis2": {
         "anchor": "x",
         "overlaying": "y",
         "side": "right",
         "ticksuffix": " %",
         "title": {
          "text": "Target % (normalized)"
         }
        }
       }
      }
     },
     "metadata": {},
     "output_type": "display_data"
    }
   ],
   "source": [
    "fig = calculadora.plot_targets(\n",
    "    df,\n",
    "    target_cols=[\n",
    "        \"ever90m12\",\n",
    "        \"over90m12\",\n",
    "        \"ever30m4\",\n",
    "        \"over30m4\",\n",
    "        ],\n",
    "    normalize=True,   # exibe porcentagem\n",
    "    title=\"Evolução dos targets\"\n",
    ")\n",
    "fig.show()\n"
   ]
  }
 ],
 "metadata": {
  "kernelspec": {
   "display_name": "ENV_STONE",
   "language": "python",
   "name": "python3"
  },
  "language_info": {
   "codemirror_mode": {
    "name": "ipython",
    "version": 3
   },
   "file_extension": ".py",
   "mimetype": "text/x-python",
   "name": "python",
   "nbconvert_exporter": "python",
   "pygments_lexer": "ipython3",
   "version": "3.10.16"
  }
 },
 "nbformat": 4,
 "nbformat_minor": 5
}
