{
 "cells": [
  {
   "cell_type": "markdown",
   "id": "5dbdc715",
   "metadata": {},
   "source": [
    "# 01 – Exploração do Snapshot\n",
    "\n",
    "Primeiro notebook do **creditlab**.\n",
    "\n",
    "Nele, vamos:\n",
    "1. Instanciar o `CreditDataSynthesizer`.\n",
    "2. Gerar a *safra 0* (snapshot) para alguns grupos homogêneos.\n",
    "3. Fazer uma exploração inicial: contagem de contratos por grupo, estatísticas descritivas e um histograma de dias em atraso.\n",
    "\n",
    "⚠️ Este notebook assume que o módulo `credit_data_synthesizer.py` está no mesmo diretório ou em `PYTHONPATH`."
   ]
  },
  {
   "cell_type": "code",
   "execution_count": null,
   "id": "67e50924",
   "metadata": {},
   "outputs": [],
   "source": [
    "import sys\n",
    "from pathlib import Path\n",
    "\n",
    "# Adiciona o diretório-pai ao sys.path\n",
    "sys.path.append(str(Path().resolve().parent))\n",
    "\n",
    "import pandas as pd\n",
    "import matplotlib.pyplot as plt\n",
    "\n",
    "\n",
    "from importlib import reload\n",
    "import credit_data_synthesizer as cds\n",
    "reload(cds)  # garante versão atual no notebook\n",
    "\n",
    "from credit_data_synthesizer import (\n",
    "    CreditDataSynthesizer,\n",
    "    default_group_profiles,   # função helper já incluída no módulo\n",
    ")"
   ]
  },
  {
   "cell_type": "markdown",
   "id": "e3bb2a69",
   "metadata": {},
   "source": [
    "## Parâmetros iniciais"
   ]
  },
  {
   "cell_type": "code",
   "execution_count": null,
   "id": "6ef5da30",
   "metadata": {},
   "outputs": [],
   "source": [
    "# ----- parâmetros que você quer -----\n",
    "n_groups = 10\n",
    "contracts_per_group = 10_000\n",
    "n_safras = 36\n",
    "seed = 0\n",
    "\n",
    "# 1) Obtenha os perfis padrão e pegue só os três primeiros\n",
    "group_profiles = default_group_profiles(n_groups)\n",
    "\n",
    "# 2) Instancie o sintetizador\n",
    "synth = CreditDataSynthesizer(\n",
    "    group_profiles=group_profiles,\n",
    "    contracts_per_group=contracts_per_group,\n",
    "    n_safras=n_safras,\n",
    "    random_seed=24,\n",
    ")"
   ]
  },
  {
   "cell_type": "code",
   "execution_count": 5,
   "id": "8c209f85",
   "metadata": {},
   "outputs": [
    {
     "data": {
      "text/plain": [
       "safra\n",
       "202507    100000\n",
       "202508    100000\n",
       "202509    100000\n",
       "202510    100000\n",
       "202511    100000\n",
       "202512    100000\n",
       "202601    100000\n",
       "202602    100000\n",
       "202603    100000\n",
       "202604    100000\n",
       "202605    100000\n",
       "202606    100000\n",
       "202607    100000\n",
       "202608    100000\n",
       "202609    100000\n",
       "202610    100000\n",
       "202611    100000\n",
       "202612    100000\n",
       "202701    100000\n",
       "202702    100000\n",
       "202703    100000\n",
       "202704    100000\n",
       "202705    100000\n",
       "202706    100000\n",
       "202707    100000\n",
       "202708    100000\n",
       "202709    100000\n",
       "202710    100000\n",
       "202711    100000\n",
       "202712    100000\n",
       "202801    100000\n",
       "202802    100000\n",
       "202803    100000\n",
       "202804    100000\n",
       "202805    100000\n",
       "202806    100000\n",
       "Name: count, dtype: int64"
      ]
     },
     "execution_count": 5,
     "metadata": {},
     "output_type": "execute_result"
    }
   ],
   "source": [
    "df_panel['safra'].value_counts()"
   ]
  },
  {
   "cell_type": "markdown",
   "id": "bec536da",
   "metadata": {},
   "source": [
    "## Geração da safra 0"
   ]
  },
  {
   "cell_type": "code",
   "execution_count": null,
   "id": "1beb2ffd",
   "metadata": {},
   "outputs": [
    {
     "name": "stdout",
     "output_type": "stream",
     "text": [
      "Snapshot gerado com 100,000 linhas\n",
      "Snapshot gerado com 3,600,000 linhas\n",
      "Snapshot gerado com 18,583 linhas\n"
     ]
    }
   ],
   "source": [
    "# 3) Gere os dados\n",
    "df_snapshot, df_panel, df_trace = synth.generate()\n",
    "\n",
    "print(f\"Snapshot gerado com {len(df_snapshot):,} linhas\")\n",
    "print(f\"Snapshot gerado com {len(df_panel):,} linhas\")\n",
    "print(f\"Snapshot gerado com {len(df_trace):,} linhas\")\n",
    "display(df_snapshot.head())"
   ]
  },
  {
   "cell_type": "code",
   "execution_count": null,
   "id": "726b25ab",
   "metadata": {},
   "outputs": [],
   "source": []
  },
  {
   "cell_type": "markdown",
   "id": "848d5896",
   "metadata": {},
   "source": [
    "### Contagem de contratos por `grupo_homogeneo`"
   ]
  },
  {
   "cell_type": "code",
   "execution_count": null,
   "id": "d7e30a2e",
   "metadata": {},
   "outputs": [],
   "source": [
    "df_snapshot['grupo_homogeneo'].value_counts()"
   ]
  },
  {
   "cell_type": "markdown",
   "id": "7131f328",
   "metadata": {},
   "source": [
    "### Estatísticas descritivas das variáveis numéricas"
   ]
  },
  {
   "cell_type": "code",
   "execution_count": null,
   "id": "13a96adb",
   "metadata": {},
   "outputs": [],
   "source": [
    "cols_numericas = df_snapshot.select_dtypes(include='number').columns.drop(['id_contrato', 'id_cliente'])\n",
    "\n",
    "agg_df = (\n",
    "    df_snapshot[cols_numericas.tolist() + ['grupo_homogeneo']]\n",
    "    .groupby('grupo_homogeneo')\n",
    "    .agg(['min', 'mean', 'max'])\n",
    ")\n",
    "\n",
    "# Flatten columns\n",
    "agg_df.columns = ['_'.join(col) for col in agg_df.columns]\n",
    "agg_df.reset_index(inplace=True)\n",
    "\n",
    "# Supondo que agg_df tenha a coluna 'grupo_homogeneo'\n",
    "agg_df = agg_df.copy()\n",
    "agg_df['grupo_idx'] = agg_df['grupo_homogeneo'].str.extract(r'GH(\\d+)').astype(int)\n",
    "agg_df = agg_df.sort_values('grupo_idx').drop(columns='grupo_idx')\n",
    "\n",
    "agg_df.head(10)"
   ]
  },
  {
   "cell_type": "markdown",
   "id": "31f50d0d",
   "metadata": {},
   "source": [
    "### Distribuição de `dias_atraso`"
   ]
  },
  {
   "cell_type": "code",
   "execution_count": null,
   "id": "44a3b3c0",
   "metadata": {},
   "outputs": [],
   "source": [
    "plt.figure()\n",
    "df_snapshot['dias_atraso'].hist(bins=30)\n",
    "plt.xlabel('Dias em atraso')\n",
    "plt.ylabel('Número de contratos')\n",
    "plt.title('Histograma de dias em atraso – safra 0')\n",
    "plt.show()"
   ]
  },
  {
   "cell_type": "code",
   "execution_count": null,
   "id": "16729581",
   "metadata": {},
   "outputs": [],
   "source": [
    "df_snapshot.shape"
   ]
  }
 ],
 "metadata": {
  "kernelspec": {
   "display_name": "ENV_MENTORIA",
   "language": "python",
   "name": "python3"
  },
  "language_info": {
   "codemirror_mode": {
    "name": "ipython",
    "version": 3
   },
   "file_extension": ".py",
   "mimetype": "text/x-python",
   "name": "python",
   "nbconvert_exporter": "python",
   "pygments_lexer": "ipython3",
   "version": "3.10.18"
  }
 },
 "nbformat": 4,
 "nbformat_minor": 5
}
