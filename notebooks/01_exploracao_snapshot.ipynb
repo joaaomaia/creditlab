{
 "cells": [
  {
   "cell_type": "markdown",
   "id": "5dbdc715",
   "metadata": {},
   "source": [
    "# 01 – Exploração do Snapshot\n",
    "\n",
    "Primeiro notebook do **creditlab**.\n",
    "\n",
    "Nele, vamos:\n",
    "1. Instanciar o `CreditDataSynthesizer`.\n",
    "2. Gerar a *safra 0* (snapshot) para alguns grupos homogêneos.\n",
    "3. Fazer uma exploração inicial: contagem de contratos por grupo, estatísticas descritivas e um histograma de dias em atraso.\n",
    "\n",
    "⚠️ Este notebook assume que o módulo `credit_data_synthesizer.py` está no mesmo diretório ou em `PYTHONPATH`."
   ]
  },
  {
   "cell_type": "code",
   "execution_count": 2,
   "id": "67e50924",
   "metadata": {},
   "outputs": [],
   "source": [
    "import sys\n",
    "from pathlib import Path\n",
    "\n",
    "# Adiciona o diretório-pai ao sys.path\n",
    "sys.path.append(str(Path().resolve().parent))\n",
    "\n",
    "import pandas as pd\n",
    "import matplotlib.pyplot as plt\n",
    "\n",
    "\n",
    "from importlib import reload\n",
    "import credit_data_synthesizer as cds\n",
    "reload(cds)  # garante versão atual no notebook\n",
    "\n",
    "from credit_data_synthesizer import (\n",
    "    CreditDataSynthesizer,\n",
    "    default_group_profiles,   # função helper já incluída no módulo\n",
    ")\n",
    "\n",
    "from credit_data_sampler import (\n",
    "    TargetSampler\n",
    ")\n",
    "\n",
    "pd.set_option('display.max_rows', 500)"
   ]
  },
  {
   "cell_type": "markdown",
   "id": "e3bb2a69",
   "metadata": {},
   "source": [
    "## Parâmetros iniciais"
   ]
  },
  {
   "cell_type": "code",
   "execution_count": 3,
   "id": "f973b1e5",
   "metadata": {},
   "outputs": [],
   "source": [
    "# from credit_data_synthesizer import CreditDataSynthesizer, default_group_profiles\n",
    "# from credit_data_sampler import TargetSampler\n",
    "\n",
    "# # gerar painel com churn dinamico\n",
    "# synth = CreditDataSynthesizer(\n",
    "#     group_profiles=default_group_profiles(2),\n",
    "#     contracts_per_group=1_000,\n",
    "#     n_safras=12,\n",
    "#     new_contract_rate=0.05,\n",
    "#     closure_rate=0.03,\n",
    "# )\n",
    "# _, panel, _ = synth.generate()\n",
    "\n",
    "# # rebalancear bad-rate preservando ranking dos grupos\n",
    "# sampler = TargetSampler(target_ratio=0.08, preserve_rank=True)\n",
    "# panel_bal = sampler.fit_transform(panel, target_col=\"ever90m12\", safra_col=\"safra\")\n",
    "# display(panel_bal.head())"
   ]
  },
  {
   "cell_type": "code",
   "execution_count": 4,
   "id": "70e97b00",
   "metadata": {},
   "outputs": [],
   "source": [
    "#panel_bal.groupby('grupo_homogeneo')['ever90m12'].mean()*100"
   ]
  },
  {
   "cell_type": "code",
   "execution_count": 6,
   "id": "6ef5da30",
   "metadata": {},
   "outputs": [],
   "source": [
    "# ----- parâmetros que você quer -----\n",
    "YEARS=4\n",
    "n_groups = 6\n",
    "contracts_per_group = 500\n",
    "n_safras = 12*YEARS\n",
    "seed = 0\n",
    "\n",
    "# 1) Obtenha os perfis padrão e pegue só os três primeiros\n",
    "group_profiles = default_group_profiles(n_groups)\n",
    "\n",
    "# 2) Instancie o sintetizador\n",
    "synth = CreditDataSynthesizer(\n",
    "    group_profiles=group_profiles,\n",
    "    contracts_per_group=contracts_per_group,\n",
    "    n_safras=n_safras,\n",
    "    random_seed=0,\n",
    "    start_safra = 201501,\n",
    "    target_ratio=0.10,\n",
    "    new_contract_rate=0.045,\n",
    "    closure_rate=0.025,\n",
    "    force_event_rate=True,\n",
    "    verbose=True\n",
    ")"
   ]
  },
  {
   "cell_type": "markdown",
   "id": "bec536da",
   "metadata": {},
   "source": [
    "## Geração da safra 0"
   ]
  },
  {
   "cell_type": "code",
   "execution_count": 7,
   "id": "1beb2ffd",
   "metadata": {},
   "outputs": [
    {
     "name": "stderr",
     "output_type": "stream",
     "text": [
      "WARNING:credit_data_sampler:Unable to reach target ratio within 0.5 pp\n",
      "WARNING:credit_data_sampler:Unable to reach target ratio within 0.5 pp\n"
     ]
    },
    {
     "name": "stdout",
     "output_type": "stream",
     "text": [
      "Snapshot gerado com 3,000 linhas\n",
      "Painel gerado com 178,436 linhas\n",
      "Rastro gerado com 12,367 linhas\n"
     ]
    },
    {
     "data": {
      "text/html": [
       "<div>\n",
       "<style scoped>\n",
       "    .dataframe tbody tr th:only-of-type {\n",
       "        vertical-align: middle;\n",
       "    }\n",
       "\n",
       "    .dataframe tbody tr th {\n",
       "        vertical-align: top;\n",
       "    }\n",
       "\n",
       "    .dataframe thead th {\n",
       "        text-align: right;\n",
       "    }\n",
       "</style>\n",
       "<table border=\"1\" class=\"dataframe\">\n",
       "  <thead>\n",
       "    <tr style=\"text-align: right;\">\n",
       "      <th></th>\n",
       "      <th>id_contrato</th>\n",
       "      <th>grupo_homogeneo</th>\n",
       "      <th>data_inicio_contrato</th>\n",
       "      <th>data_ref</th>\n",
       "      <th>safra</th>\n",
       "      <th>dias_atraso</th>\n",
       "      <th>nivel_refinanciamento</th>\n",
       "      <th>renda_mensal</th>\n",
       "      <th>tempo_no_endereco_anual</th>\n",
       "      <th>tempo_no_emprego_anual</th>\n",
       "      <th>...</th>\n",
       "      <th>ever360m18</th>\n",
       "      <th>flag_cura</th>\n",
       "      <th>write_off</th>\n",
       "      <th>id_cliente</th>\n",
       "      <th>data_nascimento</th>\n",
       "      <th>sexo</th>\n",
       "      <th>duration_m</th>\n",
       "      <th>age_months</th>\n",
       "      <th>data_fim_contrato</th>\n",
       "      <th>subcluster</th>\n",
       "    </tr>\n",
       "  </thead>\n",
       "  <tbody>\n",
       "    <tr>\n",
       "      <th>0</th>\n",
       "      <td>10000000</td>\n",
       "      <td>GH1</td>\n",
       "      <td>2014-09-06</td>\n",
       "      <td>2015-01-01</td>\n",
       "      <td>201501</td>\n",
       "      <td>15</td>\n",
       "      <td>0</td>\n",
       "      <td>5457.395508</td>\n",
       "      <td>6.322387</td>\n",
       "      <td>16.075324</td>\n",
       "      <td>...</td>\n",
       "      <td>0</td>\n",
       "      <td>0</td>\n",
       "      <td>0</td>\n",
       "      <td>405.0</td>\n",
       "      <td>1968-12-21</td>\n",
       "      <td>F</td>\n",
       "      <td>25.0</td>\n",
       "      <td>0.0</td>\n",
       "      <td>NaT</td>\n",
       "      <td>14.0</td>\n",
       "    </tr>\n",
       "    <tr>\n",
       "      <th>1</th>\n",
       "      <td>10000001</td>\n",
       "      <td>GH1</td>\n",
       "      <td>2014-09-14</td>\n",
       "      <td>2015-01-01</td>\n",
       "      <td>201501</td>\n",
       "      <td>120</td>\n",
       "      <td>0</td>\n",
       "      <td>3679.122559</td>\n",
       "      <td>1.884695</td>\n",
       "      <td>12.680055</td>\n",
       "      <td>...</td>\n",
       "      <td>0</td>\n",
       "      <td>0</td>\n",
       "      <td>0</td>\n",
       "      <td>980.0</td>\n",
       "      <td>1958-12-08</td>\n",
       "      <td>M</td>\n",
       "      <td>28.0</td>\n",
       "      <td>0.0</td>\n",
       "      <td>NaT</td>\n",
       "      <td>6.0</td>\n",
       "    </tr>\n",
       "    <tr>\n",
       "      <th>2</th>\n",
       "      <td>10000002</td>\n",
       "      <td>GH1</td>\n",
       "      <td>2014-09-07</td>\n",
       "      <td>2015-01-01</td>\n",
       "      <td>201501</td>\n",
       "      <td>60</td>\n",
       "      <td>0</td>\n",
       "      <td>4921.681152</td>\n",
       "      <td>4.197271</td>\n",
       "      <td>8.175679</td>\n",
       "      <td>...</td>\n",
       "      <td>0</td>\n",
       "      <td>0</td>\n",
       "      <td>0</td>\n",
       "      <td>348.0</td>\n",
       "      <td>1970-11-21</td>\n",
       "      <td>M</td>\n",
       "      <td>60.0</td>\n",
       "      <td>0.0</td>\n",
       "      <td>NaT</td>\n",
       "      <td>9.0</td>\n",
       "    </tr>\n",
       "    <tr>\n",
       "      <th>3</th>\n",
       "      <td>10000003</td>\n",
       "      <td>GH1</td>\n",
       "      <td>2014-07-05</td>\n",
       "      <td>2015-01-01</td>\n",
       "      <td>201501</td>\n",
       "      <td>15</td>\n",
       "      <td>0</td>\n",
       "      <td>3406.271973</td>\n",
       "      <td>1.687924</td>\n",
       "      <td>1.471017</td>\n",
       "      <td>...</td>\n",
       "      <td>0</td>\n",
       "      <td>0</td>\n",
       "      <td>0</td>\n",
       "      <td>569.0</td>\n",
       "      <td>1990-12-13</td>\n",
       "      <td>F</td>\n",
       "      <td>28.0</td>\n",
       "      <td>0.0</td>\n",
       "      <td>NaT</td>\n",
       "      <td>4.0</td>\n",
       "    </tr>\n",
       "    <tr>\n",
       "      <th>4</th>\n",
       "      <td>10000004</td>\n",
       "      <td>GH1</td>\n",
       "      <td>2014-11-17</td>\n",
       "      <td>2015-01-01</td>\n",
       "      <td>201501</td>\n",
       "      <td>15</td>\n",
       "      <td>0</td>\n",
       "      <td>6203.081543</td>\n",
       "      <td>0.076248</td>\n",
       "      <td>5.806983</td>\n",
       "      <td>...</td>\n",
       "      <td>0</td>\n",
       "      <td>0</td>\n",
       "      <td>0</td>\n",
       "      <td>793.0</td>\n",
       "      <td>1955-08-16</td>\n",
       "      <td>F</td>\n",
       "      <td>66.0</td>\n",
       "      <td>0.0</td>\n",
       "      <td>NaT</td>\n",
       "      <td>14.0</td>\n",
       "    </tr>\n",
       "  </tbody>\n",
       "</table>\n",
       "<p>5 rows × 41 columns</p>\n",
       "</div>"
      ],
      "text/plain": [
       "   id_contrato grupo_homogeneo data_inicio_contrato   data_ref   safra  \\\n",
       "0     10000000             GH1           2014-09-06 2015-01-01  201501   \n",
       "1     10000001             GH1           2014-09-14 2015-01-01  201501   \n",
       "2     10000002             GH1           2014-09-07 2015-01-01  201501   \n",
       "3     10000003             GH1           2014-07-05 2015-01-01  201501   \n",
       "4     10000004             GH1           2014-11-17 2015-01-01  201501   \n",
       "\n",
       "   dias_atraso  nivel_refinanciamento  renda_mensal  tempo_no_endereco_anual  \\\n",
       "0           15                      0   5457.395508                 6.322387   \n",
       "1          120                      0   3679.122559                 1.884695   \n",
       "2           60                      0   4921.681152                 4.197271   \n",
       "3           15                      0   3406.271973                 1.687924   \n",
       "4           15                      0   6203.081543                 0.076248   \n",
       "\n",
       "   tempo_no_emprego_anual  ...  ever360m18 flag_cura  write_off  id_cliente  \\\n",
       "0               16.075324  ...           0         0          0       405.0   \n",
       "1               12.680055  ...           0         0          0       980.0   \n",
       "2                8.175679  ...           0         0          0       348.0   \n",
       "3                1.471017  ...           0         0          0       569.0   \n",
       "4                5.806983  ...           0         0          0       793.0   \n",
       "\n",
       "   data_nascimento sexo  duration_m  age_months  data_fim_contrato  subcluster  \n",
       "0       1968-12-21    F        25.0         0.0                NaT        14.0  \n",
       "1       1958-12-08    M        28.0         0.0                NaT         6.0  \n",
       "2       1970-11-21    M        60.0         0.0                NaT         9.0  \n",
       "3       1990-12-13    F        28.0         0.0                NaT         4.0  \n",
       "4       1955-08-16    F        66.0         0.0                NaT        14.0  \n",
       "\n",
       "[5 rows x 41 columns]"
      ]
     },
     "metadata": {},
     "output_type": "display_data"
    }
   ],
   "source": [
    "# 3) Gere os dados\n",
    "df_snapshot, df_panel, df_trace = synth.generate()\n",
    "\n",
    "print(f\"Snapshot gerado com {len(df_snapshot):,} linhas\")\n",
    "print(f\"Painel gerado com {len(df_panel):,} linhas\")\n",
    "print(f\"Rastro gerado com {len(df_trace):,} linhas\")\n",
    "display(df_snapshot.head())"
   ]
  },
  {
   "cell_type": "code",
   "execution_count": null,
   "id": "2d990331",
   "metadata": {},
   "outputs": [],
   "source": [
    "df_panel.groupby(['safra','grupo_homogeneo'])['ever90m12'].mean()*100"
   ]
  },
  {
   "cell_type": "code",
   "execution_count": 11,
   "id": "e0e98a20",
   "metadata": {},
   "outputs": [
    {
     "data": {
      "text/plain": [
       "grupo_homogeneo\n",
       "GH1    69.686660\n",
       "GH2    69.006636\n",
       "GH3    65.399890\n",
       "GH4    63.252084\n",
       "GH5    59.028128\n",
       "GH6    54.572120\n",
       "Name: ever90m12, dtype: float64"
      ]
     },
     "execution_count": 11,
     "metadata": {},
     "output_type": "execute_result"
    }
   ],
   "source": [
    "df_panel.groupby('grupo_homogeneo')['ever90m12'].mean()*100"
   ]
  },
  {
   "cell_type": "code",
   "execution_count": null,
   "id": "a304ab45",
   "metadata": {},
   "outputs": [],
   "source": [
    "df_panel['nivel_refinanciamento'].describe()"
   ]
  },
  {
   "cell_type": "code",
   "execution_count": 31,
   "id": "18318f51",
   "metadata": {},
   "outputs": [
    {
     "data": {
      "image/png": "[encoded data removed]",
      "text/plain": [
       "<Figure size 600x500 with 2 Axes>"
      ]
     },
     "metadata": {},
     "output_type": "display_data"
    }
   ],
   "source": [
    "import numpy as np\n",
    "import importlib\n",
    "import transition_matrix_estimator\n",
    "\n",
    "importlib.reload(transition_matrix_estimator)\n",
    "\n",
    "from transition_matrix_estimator import TransitionMatrixLearner\n",
    "\n",
    "global_learner = TransitionMatrixLearner(buckets=[0,15,30,60,75,90,120,180,240,360])\n",
    "global_learner.fit(\n",
    "    df_panel,\n",
    "    id_col=\"id_contrato\",\n",
    "    time_col=\"data_ref\",\n",
    "    bucket_col=\"dias_atraso\",\n",
    "    #group_col='grupo_homogeneo',\n",
    ")\n",
    "\n",
    "#print(\"Global matrix:\\n\", global_learner.get_matrix())\n",
    "global_learner.plot_heatmaps(modes=[\"global\"]); #save_dir=\"figs/\")"
   ]
  },
  {
   "cell_type": "code",
   "execution_count": null,
   "id": "c4e1e71d",
   "metadata": {},
   "outputs": [],
   "source": [
    "# balanceando target\n",
    "sampler = TargetSampler(target_ratio=0.10)\n",
    "balanced = sampler.fit_transform(df_panel, target_col=\"ever90m12\")\n",
    "\n",
    "#prev = balanced.groupby(\"safra\")[\"ever90m12\"].mean()*100\n",
    "#print(\"Prev per safra (balanced):\")\n",
    "#print(prev.head())"
   ]
  },
  {
   "cell_type": "code",
   "execution_count": null,
   "id": "19924ed0",
   "metadata": {},
   "outputs": [],
   "source": [
    "df_snapshot.groupby('sexo')['ever90m12'].mean()*100"
   ]
  },
  {
   "cell_type": "code",
   "execution_count": null,
   "id": "b798a076",
   "metadata": {},
   "outputs": [],
   "source": [
    "df_snapshot.groupby('grupo_homogeneo')['ever90m12'].mean()*100"
   ]
  },
  {
   "cell_type": "code",
   "execution_count": null,
   "id": "49411ec2",
   "metadata": {},
   "outputs": [],
   "source": [
    "balanced.groupby('grupo_homogeneo')['ever90m12'].mean()*100"
   ]
  },
  {
   "cell_type": "code",
   "execution_count": null,
   "id": "b26922c5",
   "metadata": {},
   "outputs": [],
   "source": [
    "len(balanced), len(df_panel)"
   ]
  },
  {
   "cell_type": "code",
   "execution_count": null,
   "id": "3994078a",
   "metadata": {},
   "outputs": [],
   "source": [
    "balanced['safra'].value_counts()"
   ]
  },
  {
   "cell_type": "code",
   "execution_count": null,
   "id": "ed7534eb",
   "metadata": {},
   "outputs": [],
   "source": [
    "balanced.groupby(by='safra', as_index=True)['ever90m12'].mean()*100"
   ]
  },
  {
   "cell_type": "markdown",
   "id": "848d5896",
   "metadata": {},
   "source": [
    "### Contagem de contratos por `grupo_homogeneo`"
   ]
  },
  {
   "cell_type": "code",
   "execution_count": null,
   "id": "d7e30a2e",
   "metadata": {},
   "outputs": [],
   "source": [
    "df_snapshot['grupo_homogeneo'].value_counts()"
   ]
  },
  {
   "cell_type": "markdown",
   "id": "7131f328",
   "metadata": {},
   "source": [
    "### Estatísticas descritivas das variáveis numéricas"
   ]
  },
  {
   "cell_type": "code",
   "execution_count": null,
   "id": "13a96adb",
   "metadata": {},
   "outputs": [],
   "source": [
    "cols_numericas = balanced.select_dtypes(include='number').columns.drop(['id_contrato', 'id_cliente'])\n",
    "\n",
    "agg_df = (\n",
    "    balanced[cols_numericas.tolist() + ['grupo_homogeneo']]\n",
    "    .groupby('grupo_homogeneo')\n",
    "    .agg(['min', 'mean', 'max'])\n",
    ")\n",
    "\n",
    "# Flatten columns\n",
    "agg_df.columns = ['_'.join(col) for col in agg_df.columns]\n",
    "agg_df.reset_index(inplace=True)\n",
    "\n",
    "# Supondo que agg_df tenha a coluna 'grupo_homogeneo'\n",
    "agg_df = agg_df.copy()\n",
    "agg_df['grupo_idx'] = agg_df['grupo_homogeneo'].str.extract(r'GH(\\d+)').astype(int)\n",
    "agg_df = agg_df.sort_values('grupo_idx').drop(columns='grupo_idx')\n",
    "\n",
    "agg_df.head(10)"
   ]
  },
  {
   "cell_type": "markdown",
   "id": "31f50d0d",
   "metadata": {},
   "source": [
    "### Distribuição de `dias_atraso`"
   ]
  },
  {
   "cell_type": "code",
   "execution_count": null,
   "id": "44a3b3c0",
   "metadata": {},
   "outputs": [],
   "source": [
    "plt.figure()\n",
    "balanced['dias_atraso'].hist(bins=30)\n",
    "plt.xlabel('Dias em atraso')\n",
    "plt.ylabel('Número de contratos')\n",
    "plt.title('Histograma de dias em atraso – safra 0')\n",
    "plt.show()"
   ]
  },
  {
   "cell_type": "code",
   "execution_count": null,
   "id": "16729581",
   "metadata": {},
   "outputs": [],
   "source": [
    "df_snapshot.shape"
   ]
  }
 ],
 "metadata": {
  "kernelspec": {
   "display_name": "ENV_MENTORIA",
   "language": "python",
   "name": "python3"
  },
  "language_info": {
   "codemirror_mode": {
    "name": "ipython",
    "version": 3
   },
   "file_extension": ".py",
   "mimetype": "text/x-python",
   "name": "python",
   "nbconvert_exporter": "python",
   "pygments_lexer": "ipython3",
   "version": "3.10.18"
  }
 },
 "nbformat": 4,
 "nbformat_minor": 5
}
