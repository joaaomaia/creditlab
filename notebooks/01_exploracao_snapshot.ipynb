{
 "cells": [
  {
   "cell_type": "markdown",
   "id": "5dbdc715",
   "metadata": {},
   "source": [
    "# 01 – Exploração do Snapshot\n",
    "\n",
    "Primeiro notebook do **creditlab**.\n",
    "\n",
    "Nele, vamos:\n",
    "1. Instanciar o `CreditDataSynthesizer`.\n",
    "2. Gerar a *safra 0* (snapshot) para alguns grupos homogêneos.\n",
    "3. Fazer uma exploração inicial: contagem de contratos por grupo, estatísticas descritivas e um histograma de dias em atraso.\n",
    "\n",
    "⚠️ Este notebook assume que o módulo `credit_data_synthesizer.py` está no mesmo diretório ou em `PYTHONPATH`."
   ]
  },
  {
   "cell_type": "code",
   "execution_count": null,
   "id": "67e50924",
   "metadata": {},
   "outputs": [],
   "source": [
    "import sys\n",
    "from pathlib import Path\n",
    "\n",
    "# Adiciona o diretório-pai ao sys.path\n",
    "sys.path.append(str(Path().resolve().parent))\n",
    "\n",
    "import pandas as pd\n",
    "import matplotlib.pyplot as plt\n",
    "\n",
    "\n",
    "from importlib import reload\n",
    "import credit_data_synthesizer as cds\n",
    "reload(cds)  # garante versão atual no notebook\n",
    "\n",
    "from credit_data_synthesizer import (\n",
    "    CreditDataSynthesizer,\n",
    "    default_group_profiles,   # função helper já incluída no módulo\n",
    ")\n",
    "\n",
    "from credit_data_sampler import (\n",
    "    TargetSampler\n",
    ")\n",
    "\n",
    "pd.set_option('display.max_rows', 500)"
   ]
  },
  {
   "cell_type": "markdown",
   "id": "e3bb2a69",
   "metadata": {},
   "source": [
    "## Parâmetros iniciais"
   ]
  },
  {
   "cell_type": "code",
   "execution_count": null,
   "id": "f973b1e5",
   "metadata": {},
   "outputs": [],
   "source": [
    "# from credit_data_synthesizer import CreditDataSynthesizer, default_group_profiles\n",
    "# from credit_data_sampler import TargetSampler\n",
    "\n",
    "# # gerar painel com churn dinamico\n",
    "# synth = CreditDataSynthesizer(\n",
    "#     group_profiles=default_group_profiles(2),\n",
    "#     contracts_per_group=1_000,\n",
    "#     n_safras=12,\n",
    "#     new_contract_rate=0.05,\n",
    "#     closure_rate=0.03,\n",
    "# )\n",
    "# _, panel, _ = synth.generate()\n",
    "\n",
    "# # rebalancear bad-rate preservando ranking dos grupos\n",
    "# sampler = TargetSampler(target_ratio=0.08, preserve_rank=True)\n",
    "# panel_bal = sampler.fit_transform(panel, target_col=\"ever90m12\", safra_col=\"safra\")\n",
    "# display(panel_bal.head())"
   ]
  },
  {
   "cell_type": "code",
   "execution_count": null,
   "id": "70e97b00",
   "metadata": {},
   "outputs": [],
   "source": [
    "#panel_bal.groupby('grupo_homogeneo')['ever90m12'].mean()*100"
   ]
  },
  {
   "cell_type": "code",
   "execution_count": null,
   "id": "6ef5da30",
   "metadata": {},
   "outputs": [],
   "source": [
    "# ----- parâmetros que você quer -----\n",
    "YEARS=3\n",
    "n_groups = 5\n",
    "contracts_per_group = 500\n",
    "n_safras = 12*YEARS\n",
    "seed = 0\n",
    "\n",
    "# 1) Obtenha os perfis padrão e pegue só os três primeiros\n",
    "group_profiles = default_group_profiles(n_groups)\n",
    "\n",
    "# 2) Instancie o sintetizador\n",
    "synth = CreditDataSynthesizer(\n",
    "    group_profiles=group_profiles,\n",
    "    contracts_per_group=contracts_per_group,\n",
    "    n_safras=n_safras,\n",
    "    random_seed=0,\n",
    "    start_safra = 201501,\n",
    "    target_ratio=0.10,\n",
    "    new_contract_rate=0.045,\n",
    "    closure_rate=0.025,\n",
    "    force_event_rate=False,\n",
    "    verbose=True\n",
    ")"
   ]
  },
  {
   "cell_type": "markdown",
   "id": "bec536da",
   "metadata": {},
   "source": [
    "## Geração da safra 0"
   ]
  },
  {
   "cell_type": "code",
   "execution_count": 5,
   "id": "1beb2ffd",
   "metadata": {},
   "outputs": [
    {
     "name": "stderr",
     "output_type": "stream",
     "text": [
      "unmet groups: {('201601', 'GH1'): 2289, ('201601', 'GH2'): 2134, ('201601', 'GH4'): 1659, ('201601', 'GH3'): 1798, ('201601', 'GH5'): 1705, ('201601', 'GH6'): 1354, ('201509', 'GH1'): 2505, ('201509', 'GH2'): 2387, ('201509', 'GH3'): 2349, ('201509', 'GH6'): 2520, ('201509', 'GH5'): 2049, ('201509', 'GH4'): 1824, ('201507', 'GH1'): 79, ('201507', 'GH3'): 54, ('201507', 'GH6'): 2690, ('201507', 'GH2'): 2191, ('201507', 'GH4'): 2192, ('201507', 'GH5'): 1954, ('201510', 'GH3'): 2815, ('201510', 'GH1'): 2400, ('201510', 'GH2'): 2115, ('201510', 'GH5'): 2178, ('201510', 'GH6'): 1967, ('201510', 'GH4'): 1748, ('201606', 'GH2'): 1390, ('201606', 'GH3'): 1194, ('201606', 'GH1'): 839, ('201606', 'GH6'): 836, ('201606', 'GH5'): 844, ('201606', 'GH4'): 602, ('201508', 'GH3'): 2875, ('201508', 'GH1'): 3054, ('201508', 'GH2'): 2554, ('201508', 'GH4'): 2101, ('201508', 'GH5'): 2329, ('201508', 'GH6'): 2153, ('201607', 'GH3'): 1360, ('201607', 'GH1'): 896, ('201607', 'GH6'): 797, ('201607', 'GH5'): 746, ('201607', 'GH2'): 632, ('201607', 'GH4'): 556, ('201608', 'GH1'): 706, ('201608', 'GH6'): 605, ('201608', 'GH3'): 487, ('201608', 'GH2'): 435, ('201608', 'GH4'): 356, ('201608', 'GH5'): 231, ('201506', 'GH3'): 114, ('201506', 'GH1'): 58, ('201506', 'GH2'): 2555, ('201506', 'GH6'): 2337, ('201506', 'GH5'): 2178, ('201506', 'GH4'): 1861, ('201603', 'GH6'): 1680, ('201603', 'GH2'): 1725, ('201603', 'GH3'): 1387, ('201603', 'GH1'): 1260, ('201603', 'GH5'): 1327, ('201603', 'GH4'): 878, ('201503', 'GH1'): 1781, ('201503', 'GH3'): 596, ('201503', 'GH2'): 526, ('201503', 'GH6'): 2330, ('201503', 'GH4'): 1982, ('201503', 'GH5'): 1855, ('201605', 'GH5'): 1656, ('201605', 'GH2'): 1236, ('201605', 'GH3'): 1135, ('201605', 'GH6'): 1358, ('201605', 'GH1'): 1032, ('201605', 'GH4'): 673, ('201604', 'GH6'): 1747, ('201604', 'GH3'): 1469, ('201604', 'GH5'): 1542, ('201604', 'GH2'): 1340, ('201604', 'GH1'): 1205, ('201604', 'GH4'): 732, ('201512', 'GH3'): 2476, ('201512', 'GH2'): 2416, ('201512', 'GH1'): 1832, ('201512', 'GH6'): 1832, ('201512', 'GH4'): 1467, ('201512', 'GH5'): 1577, ('201505', 'GH1'): 541, ('201505', 'GH2'): 338, ('201505', 'GH3'): 2874, ('201505', 'GH6'): 2322, ('201505', 'GH5'): 2142, ('201505', 'GH4'): 2196, ('201612', 'GH5'): 546, ('201612', 'GH6'): 113, ('201610', 'GH6'): 591, ('201610', 'GH2'): 270, ('201610', 'GH4'): 224, ('201610', 'GH1'): 202, ('201610', 'GH5'): 164, ('201610', 'GH3'): 9, ('201611', 'GH6'): 412, ('201611', 'GH4'): 247, ('201611', 'GH5'): 295, ('201611', 'GH3'): 100, ('201504', 'GH3'): 598, ('201504', 'GH2'): 126, ('201504', 'GH1'): 40, ('201504', 'GH4'): 2424, ('201504', 'GH6'): 2262, ('201504', 'GH5'): 2259, ('201502', 'GH1'): 1922, ('201502', 'GH3'): 1043, ('201502', 'GH2'): 575, ('201502', 'GH5'): 2262, ('201502', 'GH6'): 2554, ('201502', 'GH4'): 1646, ('201511', 'GH3'): 2295, ('201511', 'GH4'): 2016, ('201511', 'GH5'): 2044, ('201511', 'GH1'): 1876, ('201511', 'GH2'): 1913, ('201511', 'GH6'): 1573, ('201609', 'GH5'): 920, ('201609', 'GH4'): 779, ('201609', 'GH6'): 376, ('201609', 'GH3'): 300, ('201609', 'GH2'): 151, ('201609', 'GH1'): 57, ('201501', 'GH1'): 2012, ('201501', 'GH3'): 1389, ('201501', 'GH2'): 643, ('201501', 'GH4'): 2686, ('201501', 'GH5'): 2161, ('201501', 'GH6'): 1843, ('201602', 'GH3'): 2051, ('201602', 'GH2'): 1875, ('201602', 'GH6'): 1900, ('201602', 'GH1'): 1693, ('201602', 'GH5'): 1531, ('201602', 'GH4'): 1373}\n"
     ]
    },
    {
     "name": "stdout",
     "output_type": "stream",
     "text": [
      "Snapshot gerado com 38,760 linhas\n",
      "Painel gerado com 830,920 linhas\n",
      "Rastro gerado com 3,227 linhas\n"
     ]
    },
    {
     "data": {
      "text/html": [
       "<div>\n",
       "<style scoped>\n",
       "    .dataframe tbody tr th:only-of-type {\n",
       "        vertical-align: middle;\n",
       "    }\n",
       "\n",
       "    .dataframe tbody tr th {\n",
       "        vertical-align: top;\n",
       "    }\n",
       "\n",
       "    .dataframe thead th {\n",
       "        text-align: right;\n",
       "    }\n",
       "</style>\n",
       "<table border=\"1\" class=\"dataframe\">\n",
       "  <thead>\n",
       "    <tr style=\"text-align: right;\">\n",
       "      <th></th>\n",
       "      <th>id_contrato</th>\n",
       "      <th>grupo_homogeneo</th>\n",
       "      <th>data_inicio_contrato</th>\n",
       "      <th>data_ref</th>\n",
       "      <th>safra</th>\n",
       "      <th>dias_atraso</th>\n",
       "      <th>nivel_refinanciamento</th>\n",
       "      <th>renda_mensal</th>\n",
       "      <th>tempo_no_endereco_anual</th>\n",
       "      <th>tempo_no_emprego_anual</th>\n",
       "      <th>...</th>\n",
       "      <th>ever360m18</th>\n",
       "      <th>flag_cura</th>\n",
       "      <th>write_off</th>\n",
       "      <th>id_cliente</th>\n",
       "      <th>data_nascimento</th>\n",
       "      <th>sexo</th>\n",
       "      <th>duration_m</th>\n",
       "      <th>age_months</th>\n",
       "      <th>data_fim_contrato</th>\n",
       "      <th>subcluster</th>\n",
       "    </tr>\n",
       "  </thead>\n",
       "  <tbody>\n",
       "    <tr>\n",
       "      <th>0</th>\n",
       "      <td>9.999998e+06</td>\n",
       "      <td>GH1</td>\n",
       "      <td>2014-07-05</td>\n",
       "      <td>2015-01-01</td>\n",
       "      <td>201501</td>\n",
       "      <td>15</td>\n",
       "      <td>0</td>\n",
       "      <td>3432.210895</td>\n",
       "      <td>1.797669</td>\n",
       "      <td>1.594742</td>\n",
       "      <td>...</td>\n",
       "      <td>0</td>\n",
       "      <td>0</td>\n",
       "      <td>0</td>\n",
       "      <td>574.188154</td>\n",
       "      <td>1990-12-13</td>\n",
       "      <td>F</td>\n",
       "      <td>27.228062</td>\n",
       "      <td>-0.009348</td>\n",
       "      <td>NaT</td>\n",
       "      <td>3.989564</td>\n",
       "    </tr>\n",
       "    <tr>\n",
       "      <th>1</th>\n",
       "      <td>9.999999e+06</td>\n",
       "      <td>GH1</td>\n",
       "      <td>2014-09-14</td>\n",
       "      <td>2015-01-01</td>\n",
       "      <td>201501</td>\n",
       "      <td>120</td>\n",
       "      <td>0</td>\n",
       "      <td>3685.213710</td>\n",
       "      <td>1.793612</td>\n",
       "      <td>12.737377</td>\n",
       "      <td>...</td>\n",
       "      <td>0</td>\n",
       "      <td>0</td>\n",
       "      <td>0</td>\n",
       "      <td>985.662333</td>\n",
       "      <td>1958-12-08</td>\n",
       "      <td>M</td>\n",
       "      <td>28.205492</td>\n",
       "      <td>-0.000088</td>\n",
       "      <td>NaT</td>\n",
       "      <td>6.022622</td>\n",
       "    </tr>\n",
       "    <tr>\n",
       "      <th>2</th>\n",
       "      <td>9.999999e+06</td>\n",
       "      <td>GH1</td>\n",
       "      <td>2014-09-14</td>\n",
       "      <td>2015-01-01</td>\n",
       "      <td>201501</td>\n",
       "      <td>120</td>\n",
       "      <td>0</td>\n",
       "      <td>3686.885089</td>\n",
       "      <td>1.962924</td>\n",
       "      <td>12.679814</td>\n",
       "      <td>...</td>\n",
       "      <td>0</td>\n",
       "      <td>0</td>\n",
       "      <td>0</td>\n",
       "      <td>959.828465</td>\n",
       "      <td>1958-12-08</td>\n",
       "      <td>M</td>\n",
       "      <td>28.199071</td>\n",
       "      <td>-0.000038</td>\n",
       "      <td>NaT</td>\n",
       "      <td>6.073887</td>\n",
       "    </tr>\n",
       "    <tr>\n",
       "      <th>3</th>\n",
       "      <td>9.999999e+06</td>\n",
       "      <td>GH1</td>\n",
       "      <td>2014-09-14</td>\n",
       "      <td>2015-01-01</td>\n",
       "      <td>201501</td>\n",
       "      <td>120</td>\n",
       "      <td>0</td>\n",
       "      <td>3708.325325</td>\n",
       "      <td>1.828912</td>\n",
       "      <td>12.674561</td>\n",
       "      <td>...</td>\n",
       "      <td>0</td>\n",
       "      <td>0</td>\n",
       "      <td>0</td>\n",
       "      <td>1018.494812</td>\n",
       "      <td>1958-12-08</td>\n",
       "      <td>M</td>\n",
       "      <td>28.423381</td>\n",
       "      <td>-0.000188</td>\n",
       "      <td>NaT</td>\n",
       "      <td>6.147828</td>\n",
       "    </tr>\n",
       "    <tr>\n",
       "      <th>4</th>\n",
       "      <td>9.999999e+06</td>\n",
       "      <td>GH1</td>\n",
       "      <td>2014-07-05</td>\n",
       "      <td>2015-01-01</td>\n",
       "      <td>201501</td>\n",
       "      <td>15</td>\n",
       "      <td>0</td>\n",
       "      <td>3399.465139</td>\n",
       "      <td>1.804773</td>\n",
       "      <td>1.537889</td>\n",
       "      <td>...</td>\n",
       "      <td>0</td>\n",
       "      <td>0</td>\n",
       "      <td>0</td>\n",
       "      <td>592.008743</td>\n",
       "      <td>1990-12-13</td>\n",
       "      <td>F</td>\n",
       "      <td>27.772374</td>\n",
       "      <td>-0.009343</td>\n",
       "      <td>NaT</td>\n",
       "      <td>4.024792</td>\n",
       "    </tr>\n",
       "  </tbody>\n",
       "</table>\n",
       "<p>5 rows × 41 columns</p>\n",
       "</div>"
      ],
      "text/plain": [
       "    id_contrato grupo_homogeneo data_inicio_contrato   data_ref   safra  \\\n",
       "0  9.999998e+06             GH1           2014-07-05 2015-01-01  201501   \n",
       "1  9.999999e+06             GH1           2014-09-14 2015-01-01  201501   \n",
       "2  9.999999e+06             GH1           2014-09-14 2015-01-01  201501   \n",
       "3  9.999999e+06             GH1           2014-09-14 2015-01-01  201501   \n",
       "4  9.999999e+06             GH1           2014-07-05 2015-01-01  201501   \n",
       "\n",
       "   dias_atraso  nivel_refinanciamento  renda_mensal  tempo_no_endereco_anual  \\\n",
       "0           15                      0   3432.210895                 1.797669   \n",
       "1          120                      0   3685.213710                 1.793612   \n",
       "2          120                      0   3686.885089                 1.962924   \n",
       "3          120                      0   3708.325325                 1.828912   \n",
       "4           15                      0   3399.465139                 1.804773   \n",
       "\n",
       "   tempo_no_emprego_anual  ...  ever360m18 flag_cura  write_off   id_cliente  \\\n",
       "0                1.594742  ...           0         0          0   574.188154   \n",
       "1               12.737377  ...           0         0          0   985.662333   \n",
       "2               12.679814  ...           0         0          0   959.828465   \n",
       "3               12.674561  ...           0         0          0  1018.494812   \n",
       "4                1.537889  ...           0         0          0   592.008743   \n",
       "\n",
       "   data_nascimento sexo  duration_m  age_months  data_fim_contrato  subcluster  \n",
       "0       1990-12-13    F   27.228062   -0.009348                NaT    3.989564  \n",
       "1       1958-12-08    M   28.205492   -0.000088                NaT    6.022622  \n",
       "2       1958-12-08    M   28.199071   -0.000038                NaT    6.073887  \n",
       "3       1958-12-08    M   28.423381   -0.000188                NaT    6.147828  \n",
       "4       1990-12-13    F   27.772374   -0.009343                NaT    4.024792  \n",
       "\n",
       "[5 rows x 41 columns]"
      ]
     },
     "metadata": {},
     "output_type": "display_data"
    }
   ],
   "source": [
    "# 3) Gere os dados\n",
    "df_snapshot, df_panel, df_trace = synth.generate()\n",
    "\n",
    "print(f\"Snapshot gerado com {len(df_snapshot):,} linhas\")\n",
    "print(f\"Painel gerado com {len(df_panel):,} linhas\")\n",
    "print(f\"Rastro gerado com {len(df_trace):,} linhas\")\n",
    "display(df_snapshot.head())"
   ]
  },
  {
   "cell_type": "code",
   "execution_count": null,
   "id": "06dcaf19",
   "metadata": {},
   "outputs": [],
   "source": [
    "df_panel['safra'].min()#,df_panel['safra'].max()"
   ]
  },
  {
   "cell_type": "code",
   "execution_count": null,
   "id": "2d990331",
   "metadata": {},
   "outputs": [],
   "source": [
    "df_panel.groupby(['safra','grupo_homogeneo'])['ever90m12'].mean()*100"
   ]
  },
  {
   "cell_type": "code",
   "execution_count": null,
   "id": "e0e98a20",
   "metadata": {},
   "outputs": [],
   "source": [
    "df_panel[df_panel['safra'].astype(int)>=201601].groupby('grupo_homogeneo')['ever90m12'].mean()*100"
   ]
  },
  {
   "cell_type": "code",
   "execution_count": null,
   "id": "a304ab45",
   "metadata": {},
   "outputs": [],
   "source": [
    "df_panel['nivel_refinanciamento'].describe()"
   ]
  },
  {
   "cell_type": "code",
   "execution_count": null,
   "id": "eedb871d",
   "metadata": {},
   "outputs": [],
   "source": [
    "df_snapshot['dias_atraso'].value_counts()"
   ]
  },
  {
   "cell_type": "code",
   "execution_count": 12,
   "id": "18318f51",
   "metadata": {},
   "outputs": [
    {
     "data": {
      "image/png": "[encoded data removed]",
      "text/plain": [
       "<Figure size 600x500 with 2 Axes>"
      ]
     },
     "metadata": {},
     "output_type": "display_data"
    }
   ],
   "source": [
    "import numpy as np\n",
    "import importlib\n",
    "import transition_matrix_estimator\n",
    "\n",
    "importlib.reload(transition_matrix_estimator)\n",
    "\n",
    "from transition_matrix_estimator import TransitionMatrixLearner\n",
    "\n",
    "global_learner = TransitionMatrixLearner(buckets=[0,15,30,60,90,120,180,240,360])\n",
    "global_learner.fit(\n",
    "    df_panel,\n",
    "    id_col=\"id_contrato\",\n",
    "    time_col=\"data_ref\",\n",
    "    bucket_col=\"dias_atraso\",\n",
    "    group_col='grupo_homogeneo',\n",
    ")\n",
    "\n",
    "global_learner.plot_heatmaps(modes=[\"global\"]); #save_dir=\"figs/\")"
   ]
  },
  {
   "cell_type": "code",
   "execution_count": null,
   "id": "6a21a2b1",
   "metadata": {},
   "outputs": [],
   "source": [
    "import numpy as np\n",
    "import importlib\n",
    "import ever_cure_matrix\n",
    "importlib.reload(ever_cure_matrix)\n",
    "from ever_cure_matrix import EverCureMatrixLearner\n",
    "\n",
    "ecm = EverCureMatrixLearner(buckets=[0, 15, 30, 60, 90])\n",
    "\n",
    "ecm.fit(\n",
    "    df_panel,\n",
    "    horizon=12,\n",
    "    id_col=\"id_contrato\",\n",
    "    time_col=\"data_ref\",\n",
    "    bucket_col=\"dias_atraso\",\n",
    "    )\n",
    "\n",
    "ecm.plot_heatmaps()\n",
    "\n",
    "plt.show()"
   ]
  },
  {
   "cell_type": "code",
   "execution_count": null,
   "id": "c4e1e71d",
   "metadata": {},
   "outputs": [],
   "source": [
    "# balanceando target\n",
    "sampler = TargetSampler(target_ratio=0.10)\n",
    "balanced = sampler.fit_transform(df_panel, target_col=\"ever90m12\")\n",
    "\n",
    "#prev = balanced.groupby(\"safra\")[\"ever90m12\"].mean()*100\n",
    "#print(\"Prev per safra (balanced):\")\n",
    "#print(prev.head())"
   ]
  },
  {
   "cell_type": "code",
   "execution_count": null,
   "id": "19924ed0",
   "metadata": {},
   "outputs": [],
   "source": [
    "df_snapshot.groupby('sexo')['ever90m12'].mean()*100"
   ]
  },
  {
   "cell_type": "code",
   "execution_count": null,
   "id": "b798a076",
   "metadata": {},
   "outputs": [],
   "source": [
    "df_snapshot.groupby('grupo_homogeneo')['ever90m12'].mean()*100"
   ]
  },
  {
   "cell_type": "code",
   "execution_count": null,
   "id": "49411ec2",
   "metadata": {},
   "outputs": [],
   "source": [
    "balanced.groupby('grupo_homogeneo')['ever90m12'].mean()*100"
   ]
  },
  {
   "cell_type": "code",
   "execution_count": null,
   "id": "b26922c5",
   "metadata": {},
   "outputs": [],
   "source": [
    "len(balanced), len(df_panel)"
   ]
  },
  {
   "cell_type": "code",
   "execution_count": null,
   "id": "3994078a",
   "metadata": {},
   "outputs": [],
   "source": [
    "balanced['safra'].value_counts()"
   ]
  },
  {
   "cell_type": "code",
   "execution_count": null,
   "id": "ed7534eb",
   "metadata": {},
   "outputs": [],
   "source": [
    "balanced.groupby(by='safra', as_index=True)['ever90m12'].mean()*100"
   ]
  },
  {
   "cell_type": "markdown",
   "id": "848d5896",
   "metadata": {},
   "source": [
    "### Contagem de contratos por `grupo_homogeneo`"
   ]
  },
  {
   "cell_type": "code",
   "execution_count": null,
   "id": "d7e30a2e",
   "metadata": {},
   "outputs": [],
   "source": [
    "df_snapshot['grupo_homogeneo'].value_counts()"
   ]
  },
  {
   "cell_type": "markdown",
   "id": "7131f328",
   "metadata": {},
   "source": [
    "### Estatísticas descritivas das variáveis numéricas"
   ]
  },
  {
   "cell_type": "code",
   "execution_count": null,
   "id": "13a96adb",
   "metadata": {},
   "outputs": [],
   "source": [
    "cols_numericas = balanced.select_dtypes(include='number').columns.drop(['id_contrato', 'id_cliente'])\n",
    "\n",
    "agg_df = (\n",
    "    balanced[cols_numericas.tolist() + ['grupo_homogeneo']]\n",
    "    .groupby('grupo_homogeneo')\n",
    "    .agg(['min', 'mean', 'max'])\n",
    ")\n",
    "\n",
    "# Flatten columns\n",
    "agg_df.columns = ['_'.join(col) for col in agg_df.columns]\n",
    "agg_df.reset_index(inplace=True)\n",
    "\n",
    "# Supondo que agg_df tenha a coluna 'grupo_homogeneo'\n",
    "agg_df = agg_df.copy()\n",
    "agg_df['grupo_idx'] = agg_df['grupo_homogeneo'].str.extract(r'GH(\\d+)').astype(int)\n",
    "agg_df = agg_df.sort_values('grupo_idx').drop(columns='grupo_idx')\n",
    "\n",
    "agg_df.head(10)"
   ]
  },
  {
   "cell_type": "markdown",
   "id": "31f50d0d",
   "metadata": {},
   "source": [
    "### Distribuição de `dias_atraso`"
   ]
  },
  {
   "cell_type": "code",
   "execution_count": null,
   "id": "44a3b3c0",
   "metadata": {},
   "outputs": [],
   "source": [
    "plt.figure()\n",
    "balanced['dias_atraso'].hist(bins=30)\n",
    "plt.xlabel('Dias em atraso')\n",
    "plt.ylabel('Número de contratos')\n",
    "plt.title('Histograma de dias em atraso – safra 0')\n",
    "plt.show()"
   ]
  },
  {
   "cell_type": "code",
   "execution_count": null,
   "id": "16729581",
   "metadata": {},
   "outputs": [],
   "source": [
    "df_snapshot.shape"
   ]
  }
 ],
 "metadata": {
  "kernelspec": {
   "display_name": "ENV_MENTORIA",
   "language": "python",
   "name": "python3"
  },
  "language_info": {
   "codemirror_mode": {
    "name": "ipython",
    "version": 3
   },
   "file_extension": ".py",
   "mimetype": "text/x-python",
   "name": "python",
   "nbconvert_exporter": "python",
   "pygments_lexer": "ipython3",
   "version": "3.10.18"
  }
 },
 "nbformat": 4,
 "nbformat_minor": 5
}
